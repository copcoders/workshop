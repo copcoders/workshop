{
 "cells": [
  {
   "cell_type": "markdown",
   "metadata": {},
   "source": [
    "100 tane kapı var. Bu kapılar 1'den 100'e kadar numaralandırılmış. Kapıların hepsi kilitli. Elimizde 1'den 20'ye kadar numaralandırılmış 20 tane anahtar var. Bir kapının numarası bir anahtarın numarasına tam bölünüyorsa o anahtar o kapıyı açabiliyor (ya da kilitleyebiliyor!) 1 numaralı anahtardan başlayarak her anahtar için kapıları dolaşılıyor. Anahtar ile kapı açılıyor ya da kilitleniyor. Yani kapı açıksa kilitleniyor kapı kilitli ise kapı açılıyor.\n",
    "20. turdan sonra, yani son anahtarın kullanılmasından sonra hangi kapılar açık hangi kapılar kilitlidir? Bir Python programı yazarak açık olan kapıların numaralarını ekrana yazdırın.\n",
    "\n",
    "Output\n",
    "4 9 16 21 22 23 24 26 27 28 29 30 31 32 33 34 35 37 38 39 40 41 43 45 47\n",
    "51 53 55 57 59 61 64 65 66 67 71 72 73 77 78 79 81 83 85 88 89 90 91 92 95 97"
   ]
  },
  {
   "cell_type": "code",
   "execution_count": 16,
   "metadata": {},
   "outputs": [
    {
     "name": "stdout",
     "output_type": "stream",
     "text": [
      "1 4 9 16 21 22 23 24 26 27 28 29 30 31 32 33 34 35 37 38 39 40 41 43 45 47 51 53 55 57 59 61 64 65 66 67 71 72 73 77 78 79 81 83 85 88 89 90 91 92 95 97 "
     ]
    }
   ],
   "source": [
    "for i in range(1, 101) :\n",
    "    count = 0\n",
    "    for j in range(1, 21):\n",
    "        if i % j == 0 :\n",
    "            count += 1\n",
    "    if count % 2 != 0 :\n",
    "        print(i, end = \" \")"
   ]
  }
 ],
 "metadata": {
  "kernelspec": {
   "display_name": "Python 3.10.4 64-bit",
   "language": "python",
   "name": "python3"
  },
  "language_info": {
   "codemirror_mode": {
    "name": "ipython",
    "version": 3
   },
   "file_extension": ".py",
   "mimetype": "text/x-python",
   "name": "python",
   "nbconvert_exporter": "python",
   "pygments_lexer": "ipython3",
   "version": "3.10.4"
  },
  "orig_nbformat": 4,
  "vscode": {
   "interpreter": {
    "hash": "77d06a1efd61c2ac0daf3c04b2ae52a1f581ade8654a7c81029e3bd7df1a1316"
   }
  }
 },
 "nbformat": 4,
 "nbformat_minor": 2
}
